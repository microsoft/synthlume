{
 "cells": [
  {
   "cell_type": "code",
   "execution_count": 1,
   "metadata": {},
   "outputs": [
    {
     "data": {
      "text/plain": [
       "['How does a basic game of Dungeons & Dragons progress with respect to the roles of the Dungeon Master and the players?',\n",
       " \"In a tabletop role-playing game, what is the process that the game master follows when a player's action results in a challenging situation?\",\n",
       " 'How does the nature of gameplay in a tabletop role-playing game like Dungeons & Dragons typically vary with the circumstances?',\n",
       " 'What methods can a Dungeon Master use to help set the scene in a tabletop role-playing game, and how do players also contribute to character portrayal?',\n",
       " 'In the game Dungeons & Dragons, how is the result of a roll of percentile dice, or d100, generated and read, particularly when the ten-sided dice are numbered in tens?',\n",
       " 'How can one simulate a roll of 1d3 or 1d2 in a tabletop role-playing game using a d6 or any die?',\n",
       " 'In the gameplay of Dungeons & Dragons, how is the success or failure of an action determined?',\n",
       " 'What are the steps involved in making a d20 roll in a tabletop role-playing game?',\n",
       " 'In a tabletop role-playing game, how is success or failure determined when an action is taken?',\n",
       " \"In a tabletop role-playing game, how is a roll affected by the terms 'advantage' and 'disadvantage'?\",\n",
       " 'What are the characteristics of a successful party of adventurers in a Dungeons & Dragons game?',\n",
       " 'In a tabletop role-playing game like Dungeons & Dragons, who might be responsible for creating an adventure and what elements does that adventure typically feature?',\n",
       " 'What types of interactions could player characters have in a tabletop role-playing game?',\n",
       " 'How can the structure of adventures and campaigns in a tabletop role-playing game be compared to the structure of a TV series?',\n",
       " 'In a tabletop role-playing game like Dungeons & Dragons, how is exploration carried out?',\n",
       " 'What are some of the key features of gameplay and character interaction in a role-playing game like Dungeons & Dragons?',\n",
       " 'What is the most structured element of a D&D session and what possible actions can players undertake during this part?',\n",
       " 'In the context of the game Dungeons & Dragons, how often does magic occur and how is it viewed by the common folk?',\n",
       " 'In a role-playing game like Dungeons & Dragons, why is magic considered crucial for adventurers and what are the various ways it can be used?',\n",
       " 'What are the elements involved in creating a character in a tabletop role-playing game like Dungeons & Dragons?',\n",
       " 'What considerations should a player take into account when creating a character for Dungeons & Dragons?',\n",
       " \"What is the process of character creation in tabletop roleplaying games like Dungeons & Dragons, and how can one track their character's development?\",\n",
       " 'How do the racial traits of lightfoot halflings and high elves influence their suitability for certain classes in Dungeons & Dragons?',\n",
       " 'What aspects are considered when creating a character in a tabletop role-playing game like Dungeons & Dragons?',\n",
       " 'What are some of the benefits a character gets from their chosen class in a game of Dungeons & Dragons?',\n",
       " 'What signifies the entry of a character into the adventuring life in Dungeons & Dragons and what is the relevance of experience points?',\n",
       " 'In the game Dungeons & Dragons, how is the toughness of a character determined, and what role does the class of a character play in this?',\n",
       " \"In a game of Dungeons & Dragons, what aspects does a 1st-level character's proficiency bonus of +2 apply to, and how are hit points recorded and regained?\",\n",
       " \"In role-playing games like Dungeons & Dragons, what are the determinants of a character's proficiency in skills, tools, and saving throws, and are there any restrictions on the addition of the proficiency bonus?\",\n",
       " 'What are the six abilities that are considered when creating a character class in a game like Dungeons & Dragons and how does each ability affect the game play?',\n",
       " 'How are ability scores generated and assigned in a game of Dungeons & Dragons, and how are the ability modifiers determined?',\n",
       " \"How are a character's initial hit points calculated in the Dungeons & Dragons role-playing game based on a character called Bruenor?\",\n",
       " \"What is the range of ability scores a player can have before applying racial increases when customizing their character's abilities in Dungeons & Dragons, using the variant rule, and how can this enhance flexibility in score distribution?\",\n",
       " 'What elements are considered when fleshing out a character for a role-playing game?',\n",
       " \"In the process of character creation in a role-playing game like Dungeons & Dragons, how do a character's abilities and race influence their appearance and personality, and what benefits does a character's background provide?\",\n",
       " 'What physical and mental characteristics might be associated with a high Wisdom score in a tabletop role-playing game character?',\n",
       " \"What are the implications on a character's personality and backstory in a tabletop role-playing game if he has high Strength and Constitution, low Intelligence, and comes from a noble line?\",\n",
       " 'In the context of tabletop role-playing games like Dungeons & Dragons, what kind of personality traits and ideals might a dwarf character with a folk hero background possess?',\n",
       " \"In Dungeons & Dragons, what influences a character's starting equipment and what limits does a character's strength score impose?\",\n",
       " \"In the role-playing game Dungeons & Dragons, how is a character's Armor Class calculated in the absence of armor or a shield, and what are the implications of wearing armor or carrying a shield without the required proficiency?\",\n",
       " \"How do you determine which modifier to use when attacking with a melee weapon in a tabletop role-playing game, and how does the weapon's property, like finesse, affect this?\",\n",
       " 'In a role-playing game, if a player character, Bruenor, uses a battleaxe as his weapon, how is his attack bonus and damage calculated?']"
      ]
     },
     "execution_count": 1,
     "metadata": {},
     "output_type": "execute_result"
    }
   ],
   "source": [
    "import json\n",
    "\n",
    "file_path = \"../data/full_test/questions.json\"\n",
    "\n",
    "with open(file_path, \"r\") as file:\n",
    "    data = json.load(file)\n",
    "\n",
    "questions = [data[q]['question']['question'] for q in range(len(data))]\n",
    "questions"
   ]
  },
  {
   "cell_type": "code",
   "execution_count": 2,
   "metadata": {},
   "outputs": [],
   "source": [
    "from dotenv import load_dotenv\n",
    "import os\n",
    "from langchain.chat_models import AzureChatOpenAI\n",
    "\n",
    "load_dotenv()\n",
    "\n",
    "llm = AzureChatOpenAI(\n",
    "    openai_api_key=os.getenv(\"OPENAI_API_KEY\"),\n",
    "    azure_endpoint=os.getenv(\"AZURE_ENDPOINT\"),\n",
    "    openai_api_version=\"2023-08-01-preview\",\n",
    "    deployment_name=\"gpt4_1106-Preview\",\n",
    "    temperature=0.9,\n",
    ")"
   ]
  },
  {
   "cell_type": "code",
   "execution_count": 3,
   "metadata": {},
   "outputs": [
    {
     "name": "stdout",
     "output_type": "stream",
     "text": [
      "How does a basic game of Dungeons & Dragons progress with respect to the roles of the Dungeon Master and the players?\n",
      "Hey, can you walk me through how a chill game of D&D unfolds, like what the DM and the rest of the gang are supposed to be doing?\n"
     ]
    }
   ],
   "source": [
    "# add upper folder to syspath\n",
    "import sys\n",
    "sys.path.append('..')\n",
    "\n",
    "from synthlume.pipeline.step.text_generation_step import QuestionNewStyleStep\n",
    "\n",
    "question_new_style_step = QuestionNewStyleStep(llm=llm, language=\"en\")\n",
    "questions_dict = {\"question\": questions[0], \"new_style\": \"informal\"}\n",
    "\n",
    "print(questions[0])\n",
    "print(question_new_style_step.generate(**questions_dict)[\"question\"])"
   ]
  }
 ],
 "metadata": {
  "kernelspec": {
   "display_name": "synthlume",
   "language": "python",
   "name": "python3"
  },
  "language_info": {
   "codemirror_mode": {
    "name": "ipython",
    "version": 3
   },
   "file_extension": ".py",
   "mimetype": "text/x-python",
   "name": "python",
   "nbconvert_exporter": "python",
   "pygments_lexer": "ipython3",
   "version": "3.10.13"
  }
 },
 "nbformat": 4,
 "nbformat_minor": 2
}
