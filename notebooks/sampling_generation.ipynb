{
 "cells": [
  {
   "cell_type": "markdown",
   "id": "cb6805bc-2797-4163-833d-e2d71cd4dc3c",
   "metadata": {},
   "source": [
    "# Comparing Sampling Generation vs. Regular Generation in LLMs\n",
    "\n",
    "This notebook explores the benefits and differences between sampling generation and regular generation using Large Language Models (LLMs). We will demonstrate how generating multiple candidates with a cheaper model and refining the final result can lead to improved quality compared to generating results directly using a chain of thought."
   ]
  },
  {
   "cell_type": "markdown",
   "id": "8689fcb7-c214-46a0-a047-33895d6cc58f",
   "metadata": {},
   "source": [
    "## Table of Contents\n",
    "\n",
    "1. [Introduction](#introduction)\n",
    "2. [Setup](#setup)\n",
    "    - [Import Libraries](#import-libraries)\n",
    "    - [Load Environment Variables](#load-environment-variables)\n",
    "    - [Define Constants](#define-constants)\n",
    "3. [Data Loading and Preparation](#data-loading-and-preparation)\n",
    "    - [Load and Split Documents](#load-and-split-documents)\n",
    "4. [Initialize Models and Embeddings](#initialize-models-and-embeddings)\n",
    "5. [Sampling Generation Approach](#sampling-generation-approach)\n",
    "    - [Generate Questions Using Sampling](#generate-questions-using-sampling)\n",
    "6. [Regular Generation Approach](#regular-generation-approach)\n",
    "    - [Generate Questions Using Regular Method](#generate-questions-using-regular-method)\n",
    "7. [Comparative Analysis](#comparative-analysis)\n",
    "    - [Quality of Generated Questions](#quality-of-generated-questions)\n",
    "    - [Cost Efficiency](#cost-efficiency)\n",
    "8. [Conclusion](#conclusion)"
   ]
  },
  {
   "cell_type": "markdown",
   "id": "11b41890-0dca-4348-814f-1880e12a5b31",
   "metadata": {},
   "source": [
    "## Introduction\n",
    "\n",
    "In the context of question generation using LLMs, two primary methods can be employed:\n",
    "\n",
    "1. **Sampling Generation**: Generate a large number of candidate questions using a cheaper model and then refine these to produce the final set.\n",
    "2. **Regular Generation**: Directly generate questions using a more advanced model with chain-of-thought reasoning.\n",
    "\n",
    "This notebook compares these two methods in terms of quality and efficiency."
   ]
  },
  {
   "cell_type": "markdown",
   "id": "ce0bc1df-49fa-4231-87ef-43b0f6dcf692",
   "metadata": {},
   "source": [
    "## Setup"
   ]
  },
  {
   "cell_type": "markdown",
   "id": "a7b251b6-f805-4a44-a512-f070283d9e3f",
   "metadata": {},
   "source": [
    "### Import Libraries"
   ]
  },
  {
   "cell_type": "code",
   "execution_count": 15,
   "id": "a9665be0-d88d-478d-979f-299241445fa7",
   "metadata": {},
   "outputs": [],
   "source": [
    "import random\n",
    "import copy\n",
    "import os\n",
    "from dotenv import load_dotenv\n",
    "\n",
    "# Load environment variables\n",
    "load_dotenv()\n",
    "\n",
    "from langchain_openai import AzureOpenAIEmbeddings, AzureChatOpenAI\n",
    "from synthlume.pipeline.step import (\n",
    "    GenerateQuestionThinkingProcess,\n",
    "    GenerateQuestionWithEnhancedContextStep,\n",
    "    GenerateQuestionFromSamples,\n",
    ")\n",
    "from langchain.text_splitter import RecursiveCharacterTextSplitter\n",
    "from langchain.document_loaders import PyPDFLoader"
   ]
  },
  {
   "cell_type": "markdown",
   "id": "f98d879e-5e68-4500-aec7-fdf387f9cd25",
   "metadata": {},
   "source": [
    "### Load Environment Variables"
   ]
  },
  {
   "cell_type": "code",
   "execution_count": 16,
   "id": "4bb9bff0-727b-48a4-95e0-72935e281156",
   "metadata": {},
   "outputs": [],
   "source": [
    "# Load Azure OpenAI credentials from environment variables\n",
    "AZURE_OPENAI_KEY = os.getenv(\"AZURE_OPENAI_KEY\")\n",
    "AZURE_DEPLOYMENT_NAME = os.getenv(\"AZURE_DEPLOYMENT_NAME\")\n",
    "AZURE_ENDPOINT = os.getenv(\"AZURE_ENDPOINT\")"
   ]
  },
  {
   "cell_type": "markdown",
   "id": "07e77581-4df8-4030-b88a-748ae9b32fc1",
   "metadata": {},
   "source": [
    "### Define Constants"
   ]
  },
  {
   "cell_type": "code",
   "execution_count": 17,
   "id": "2266194e-392e-4d10-a685-76abeaa0f53e",
   "metadata": {},
   "outputs": [],
   "source": [
    "# Define paths and constants\n",
    "BASE_PATH = \"../data/moodys_data\"\n",
    "CHUNK_SIZE = 2048\n",
    "CHUNK_OVERLAP = 256\n",
    "SEED = 27\n",
    "MAX_STEPS = 5"
   ]
  },
  {
   "cell_type": "markdown",
   "id": "30b24f50-f798-4d90-b6dc-5e61b167e472",
   "metadata": {},
   "source": [
    "## Data Loading and Preparation"
   ]
  },
  {
   "cell_type": "markdown",
   "id": "32fad33e-2f5c-4857-a3e3-4778a6ecb069",
   "metadata": {},
   "source": [
    "### Load and Split Documents"
   ]
  },
  {
   "cell_type": "code",
   "execution_count": 19,
   "id": "db523860-55b6-4691-b5ee-28419399083d",
   "metadata": {},
   "outputs": [],
   "source": [
    "def load_and_split(path, splitter):\n",
    "    loader = PyPDFLoader(path)\n",
    "    documents = loader.load()\n",
    "    return splitter.split_documents(documents)\n",
    "\n",
    "# Get list of PDF files\n",
    "pdfs = [\n",
    "    os.path.join(BASE_PATH, filename)\n",
    "    for filename in os.listdir(BASE_PATH)\n",
    "    if filename.endswith(\".pdf\")\n",
    "]\n",
    "\n",
    "# Initialize text splitter\n",
    "text_splitter = RecursiveCharacterTextSplitter(\n",
    "    chunk_size=CHUNK_SIZE,\n",
    "    chunk_overlap=CHUNK_OVERLAP,\n",
    "    length_function=len,\n",
    "    is_separator_regex=False,\n",
    ")\n",
    "\n",
    "# Load and split all documents\n",
    "all_documents = sum([load_and_split(pdf, text_splitter) for pdf in pdfs], [])"
   ]
  },
  {
   "cell_type": "markdown",
   "id": "dea7c29c-932e-4d4c-ab66-4a90ed846e51",
   "metadata": {},
   "source": [
    "## Initialize Models and Embeddings"
   ]
  },
  {
   "cell_type": "code",
   "execution_count": 20,
   "id": "01d7f3a9-7392-41c1-a9dc-38c00f1c06e9",
   "metadata": {},
   "outputs": [],
   "source": [
    "# Initialize embeddings\n",
    "embeddings = AzureOpenAIEmbeddings(\n",
    "    openai_api_key=AZURE_OPENAI_KEY,\n",
    "    azure_endpoint=AZURE_ENDPOINT,\n",
    "    azure_deployment=\"text-embedding-ada-002\",\n",
    "    openai_api_version=\"2024-09-01-preview\",\n",
    ")\n",
    "\n",
    "# Initialize LLMs\n",
    "llm_large = AzureChatOpenAI(\n",
    "    openai_api_key=AZURE_OPENAI_KEY,\n",
    "    azure_endpoint=AZURE_ENDPOINT,\n",
    "    openai_api_version=\"2024-09-01-preview\",\n",
    "    deployment_name=AZURE_DEPLOYMENT_NAME,\n",
    "    temperature=0.9,\n",
    ")\n",
    "\n",
    "llm_small = AzureChatOpenAI(\n",
    "    openai_api_key=AZURE_OPENAI_KEY,\n",
    "    azure_endpoint=AZURE_ENDPOINT,\n",
    "    openai_api_version=\"2024-09-01-preview\",\n",
    "    deployment_name=\"gpt-4o-mini\",\n",
    "    temperature=0.9,\n",
    ")"
   ]
  },
  {
   "cell_type": "markdown",
   "id": "4cad3fac-dc6b-47db-bc14-336096efa15a",
   "metadata": {},
   "source": [
    "## Sampling Generation Approach\n",
    "\n",
    "In this approach, we use a smaller, cheaper LLM to generate multiple candidate questions and then refine them to produce the final questions.\n"
   ]
  },
  {
   "cell_type": "markdown",
   "id": "17f76240-d33b-4672-aa64-d3b023ebd14d",
   "metadata": {},
   "source": [
    "### Generate Questions Using Sampling"
   ]
  },
  {
   "cell_type": "code",
   "execution_count": 21,
   "id": "c14b98ad-1b16-4bdd-ad77-bb8161bbc9fc",
   "metadata": {},
   "outputs": [
    {
     "name": "stdout",
     "output_type": "stream",
     "text": [
      "Processing Chunk 1/5 using Sampling Generation\n"
     ]
    },
    {
     "name": "stderr",
     "output_type": "stream",
     "text": [
      "2024-10-16 12:05:35,103 - INFO - synthlume.pipeline.step.generate_question_thinking_process - Generating sample 0\n",
      "2024-10-16 12:05:39,183 - INFO - synthlume.pipeline.step.generate_question_thinking_process - Generating sample 1\n",
      "2024-10-16 12:05:43,403 - INFO - synthlume.pipeline.step.generate_question_thinking_process - Generating sample 2\n",
      "2024-10-16 12:05:48,114 - INFO - synthlume.pipeline.step.generate_question_thinking_process - Generating sample 3\n",
      "2024-10-16 12:05:53,714 - INFO - synthlume.pipeline.step.generate_question_thinking_process - Generating sample 4\n",
      "2024-10-16 12:05:58,576 - INFO - synthlume.pipeline.step.generate_question_thinking_process - Generating sample 5\n",
      "2024-10-16 12:06:03,883 - INFO - synthlume.pipeline.step.generate_question_thinking_process - Generating sample 6\n",
      "2024-10-16 12:06:07,159 - INFO - synthlume.pipeline.step.generate_question_thinking_process - Generating sample 7\n",
      "2024-10-16 12:06:11,154 - INFO - synthlume.pipeline.step.generate_question_thinking_process - Generating sample 8\n",
      "2024-10-16 12:06:14,759 - INFO - synthlume.pipeline.step.generate_question_thinking_process - Generating sample 9\n",
      "2024-10-16 12:06:20,267 - INFO - synthlume.pipeline.step.generate_question_thinking_process - Generating sample 10\n",
      "2024-10-16 12:06:24,161 - INFO - synthlume.pipeline.step.generate_question_thinking_process - Generating sample 11\n",
      "2024-10-16 12:06:27,798 - INFO - synthlume.pipeline.step.generate_question_thinking_process - Generating sample 12\n",
      "2024-10-16 12:06:32,517 - INFO - synthlume.pipeline.step.generate_question_thinking_process - Generating sample 13\n",
      "2024-10-16 12:06:36,106 - INFO - synthlume.pipeline.step.generate_question_thinking_process - Generating sample 14\n"
     ]
    },
    {
     "name": "stdout",
     "output_type": "stream",
     "text": [
      "\n",
      "Question: How do economic conditions and government policies in emerging markets converge to influence Honda's motorcycle and automotive sales, particularly in the aftermath of the pandemic?\n",
      "\n",
      "\n",
      "Question: In what ways do government policies and economic volatility in emerging markets interact to influence consumer purchasing behavior for Honda's motorcycle and automotive businesses?\n",
      "\n",
      "\n",
      "Question: How do economic conditions and government policies in emerging markets impact consumer behavior toward motorcycle purchases and Honda's broader automotive strategy?\n",
      "\n",
      "\n",
      "Question: How do economic recovery factors, including currency fluctuations, tourism dependency, and government policies, influence consumer demand for Honda's motorcycle and automotive products in emerging markets?\n",
      "\n",
      "\n",
      "Question: What are the implications of government policies and economic recovery on consumer demand for motorcycles in emerging markets, and how does this relate to the overall automotive business strategy of Honda in the context of potential market shifts?\n",
      "\n",
      "\n",
      "Question: How do government policies and economic conditions in emerging markets interact to affect consumer behavior towards motorcycle and automotive purchases, particularly in the aftermath of the pandemic?\n",
      "\n",
      "Processing Chunk 2/5 using Sampling Generation\n"
     ]
    },
    {
     "name": "stderr",
     "output_type": "stream",
     "text": [
      "2024-10-16 12:06:58,920 - INFO - synthlume.pipeline.step.generate_question_thinking_process - Generating sample 0\n",
      "2024-10-16 12:07:03,893 - INFO - synthlume.pipeline.step.generate_question_thinking_process - Generating sample 1\n",
      "2024-10-16 12:07:12,746 - INFO - synthlume.pipeline.step.generate_question_thinking_process - Generating sample 2\n",
      "2024-10-16 12:07:22,228 - INFO - synthlume.pipeline.step.generate_question_thinking_process - Generating sample 3\n",
      "2024-10-16 12:07:27,955 - INFO - synthlume.pipeline.step.generate_question_thinking_process - Generating sample 4\n",
      "2024-10-16 12:07:32,822 - INFO - synthlume.pipeline.step.generate_question_thinking_process - Generating sample 5\n",
      "2024-10-16 12:07:39,529 - INFO - synthlume.pipeline.step.generate_question_thinking_process - Generating sample 6\n",
      "2024-10-16 12:07:44,859 - INFO - synthlume.pipeline.step.generate_question_thinking_process - Generating sample 7\n",
      "2024-10-16 12:07:52,376 - INFO - synthlume.pipeline.step.generate_question_thinking_process - Generating sample 8\n",
      "2024-10-16 12:07:58,473 - INFO - synthlume.pipeline.step.generate_question_thinking_process - Generating sample 9\n",
      "2024-10-16 12:08:05,743 - INFO - synthlume.pipeline.step.generate_question_thinking_process - Generating sample 10\n",
      "2024-10-16 12:08:12,074 - INFO - synthlume.pipeline.step.generate_question_thinking_process - Generating sample 11\n",
      "2024-10-16 12:08:17,345 - INFO - synthlume.pipeline.step.generate_question_thinking_process - Generating sample 12\n",
      "2024-10-16 12:08:23,335 - INFO - synthlume.pipeline.step.generate_question_thinking_process - Generating sample 13\n",
      "2024-10-16 12:08:30,586 - INFO - synthlume.pipeline.step.generate_question_thinking_process - Generating sample 14\n"
     ]
    },
    {
     "name": "stdout",
     "output_type": "stream",
     "text": [
      "\n",
      "Question: How do Tesla's production strategies and reliance on specific vehicle models influence its competitive positioning and financial performance in the face of escalating competition from traditional automotive manufacturers transitioning to electric vehicles?\n",
      "\n",
      "\n",
      "Question: How does Tesla's competitive positioning within the electric vehicle market, coupled with its production capabilities and regulatory pressures, influence its EBITA margin and overall financial outlook in the face of increasing competition from both traditional automakers and new entrants?\n",
      "\n",
      "\n",
      "Question: How do Tesla's current product dependency and its competitive market positioning forecast its financial stability and growth potential amid increased competition in the battery electric vehicle sector?\n",
      "\n",
      "\n",
      "Question: How does Tesla's competitive advantage in the electric vehicle market, particularly its operational efficiency and product lineup, mitigate the risks posed by increasing competition from traditional automakers and new entrants, while maintaining its leadership in EBITA margins?\n",
      "\n",
      "\n",
      "Question: How do the competitive pressures from traditional automakers transitioning to electric vehicles impact Tesla's production capabilities and profit margins in the short and long term?\n",
      "\n",
      "\n",
      "Question: In what ways do Tesla's competitive advantages in battery electric vehicle production and regulatory support position the company to manage the anticipated shifts in market dynamics due to increased vehicle offerings from traditional automakers?\n",
      "\n",
      "\n",
      "Question: How do Tesla's current product offerings and market strategies position it against the emerging competition in the electric vehicle sector, and what financial indicators reflect its capability to sustain growth amidst these challenges?\n",
      "\n",
      "Processing Chunk 3/5 using Sampling Generation\n"
     ]
    },
    {
     "name": "stderr",
     "output_type": "stream",
     "text": [
      "2024-10-16 12:08:55,730 - INFO - synthlume.pipeline.step.generate_question_thinking_process - Generating sample 0\n",
      "2024-10-16 12:09:01,617 - INFO - synthlume.pipeline.step.generate_question_thinking_process - Generating sample 1\n",
      "2024-10-16 12:09:08,088 - INFO - synthlume.pipeline.step.generate_question_thinking_process - Generating sample 2\n",
      "2024-10-16 12:09:12,406 - INFO - synthlume.pipeline.step.generate_question_thinking_process - Generating sample 3\n",
      "2024-10-16 12:09:16,907 - INFO - synthlume.pipeline.step.generate_question_thinking_process - Generating sample 4\n",
      "2024-10-16 12:09:22,978 - INFO - synthlume.pipeline.step.generate_question_thinking_process - Generating sample 5\n",
      "2024-10-16 12:09:27,090 - INFO - synthlume.pipeline.step.generate_question_thinking_process - Generating sample 6\n",
      "2024-10-16 12:09:31,682 - INFO - synthlume.pipeline.step.generate_question_thinking_process - Generating sample 7\n",
      "2024-10-16 12:09:36,186 - INFO - synthlume.pipeline.step.generate_question_thinking_process - Generating sample 8\n",
      "2024-10-16 12:09:41,357 - INFO - synthlume.pipeline.step.generate_question_thinking_process - Generating sample 9\n",
      "2024-10-16 12:09:46,608 - INFO - synthlume.pipeline.step.generate_question_thinking_process - Generating sample 10\n",
      "2024-10-16 12:09:52,141 - INFO - synthlume.pipeline.step.generate_question_thinking_process - Generating sample 11\n",
      "2024-10-16 12:09:57,975 - INFO - synthlume.pipeline.step.generate_question_thinking_process - Generating sample 12\n",
      "2024-10-16 12:10:04,323 - INFO - synthlume.pipeline.step.generate_question_thinking_process - Generating sample 13\n",
      "2024-10-16 12:10:10,366 - INFO - synthlume.pipeline.step.generate_question_thinking_process - Generating sample 14\n"
     ]
    },
    {
     "name": "stdout",
     "output_type": "stream",
     "text": [
      "\n",
      "Question: How do the proposed Chinese tariffs impact US agricultural sectors, particularly soybeans, compared to the aerospace and chemicals industries, and what are the broader macroeconomic implications of these tariffs on US-China trade relations?\n",
      "\n",
      "\n",
      "Question: What are the primary sectors of the US economy that are expected to experience significant disruptions due to the proposed Chinese tariffs, and how might their varying credit impacts reflect their relation to US exports and economic stability?\n",
      "\n",
      "\n",
      "Question: How might the proposed tariffs on US exports to China, particularly in the agriculture and chemicals sectors, influence credit ratings and overall economic confidence within these industries, particularly considering their historical export volumes?\n",
      "\n",
      "\n",
      "Question: What are the anticipated macroeconomic implications of the proposed Chinese tariffs on US agriculture, specifically soybeans, in conjunction with the ability of US chemicals producers to adapt their trade flows in response to these tariffs?\n",
      "\n",
      "\n",
      "Question: How do the proposed Chinese tariffs differentially affect the U.S. agriculture sector, particularly soybeans, compared to the chemicals sector, and what are the broader implications for U.S. export dynamics and economic relations with China?\n",
      "\n",
      "Processing Chunk 4/5 using Sampling Generation\n"
     ]
    },
    {
     "name": "stderr",
     "output_type": "stream",
     "text": [
      "2024-10-16 12:10:33,547 - INFO - synthlume.pipeline.step.generate_question_thinking_process - Generating sample 0\n",
      "2024-10-16 12:10:37,607 - INFO - synthlume.pipeline.step.generate_question_thinking_process - Generating sample 1\n",
      "2024-10-16 12:10:42,313 - INFO - synthlume.pipeline.step.generate_question_thinking_process - Generating sample 2\n",
      "2024-10-16 12:10:45,385 - INFO - synthlume.pipeline.step.generate_question_thinking_process - Generating sample 3\n",
      "2024-10-16 12:10:48,866 - INFO - synthlume.pipeline.step.generate_question_thinking_process - Generating sample 4\n",
      "2024-10-16 12:10:53,171 - INFO - synthlume.pipeline.step.generate_question_thinking_process - Generating sample 5\n",
      "2024-10-16 12:10:57,317 - INFO - synthlume.pipeline.step.generate_question_thinking_process - Generating sample 6\n",
      "2024-10-16 12:11:00,335 - INFO - synthlume.pipeline.step.generate_question_thinking_process - Generating sample 7\n",
      "2024-10-16 12:11:04,125 - INFO - synthlume.pipeline.step.generate_question_thinking_process - Generating sample 8\n",
      "2024-10-16 12:11:08,150 - INFO - synthlume.pipeline.step.generate_question_thinking_process - Generating sample 9\n",
      "2024-10-16 12:11:14,077 - INFO - synthlume.pipeline.step.generate_question_thinking_process - Generating sample 10\n",
      "2024-10-16 12:11:18,147 - INFO - synthlume.pipeline.step.generate_question_thinking_process - Generating sample 11\n",
      "2024-10-16 12:11:22,667 - INFO - synthlume.pipeline.step.generate_question_thinking_process - Generating sample 12\n",
      "2024-10-16 12:11:27,682 - INFO - synthlume.pipeline.step.generate_question_thinking_process - Generating sample 13\n",
      "2024-10-16 12:11:33,122 - INFO - synthlume.pipeline.step.generate_question_thinking_process - Generating sample 14\n"
     ]
    },
    {
     "name": "stdout",
     "output_type": "stream",
     "text": [
      "\n",
      "Question: How does the growth in demand for electric vehicle batteries influence the operational profitability and risk management strategies of companies within this sector, particularly considering their leverage and credit ratings?\n",
      "\n",
      "\n",
      "Question: How do the profitability percentages attributed to the battery business influence the strategic decisions of companies facing the growing demand and operational risks in the electric vehicle battery market?\n",
      "\n",
      "\n",
      "Question: How do the anticipated increases in operating profits within the electric vehicle battery sector correlate with the operational and investment risks identified amidst growing demand?\n",
      "\n",
      "\n",
      "Question: How do the operational profit contributions of electric vehicle battery businesses relate to the projected investment risks associated with the increasing demand for these batteries?\n",
      "\n",
      "\n",
      "Question: How do the rising operational profits in the electric vehicle battery sector have implications on the associated risks and investment requirements needed to sustain growth in demand?\n",
      "\n",
      "\n",
      "Question: How do the projected operational profits from electric vehicle battery businesses correlate with the anticipated investment risks within the sector and how do they influence the financial stability of companies?\n",
      "\n",
      "\n",
      "Question: How does the contribution of battery businesses to operating profit influence the financial stability and risk management strategies of companies in the face of increasing EV battery demand?\n",
      "\n",
      "\n",
      "Question: How do market demand fluctuations and operational risks associated with electric vehicle battery production impact overall financial performance and investment stability in the sector?\n",
      "\n",
      "\n",
      "Question: What are the implications of rising demand for electric vehicle batteries on their profitability and associated operational risks, particularly in relation to maintaining financial leverage levels?\n",
      "\n",
      "Processing Chunk 5/5 using Sampling Generation\n"
     ]
    },
    {
     "name": "stderr",
     "output_type": "stream",
     "text": [
      "2024-10-16 12:11:59,411 - INFO - synthlume.pipeline.step.generate_question_thinking_process - Generating sample 0\n",
      "2024-10-16 12:12:06,255 - INFO - synthlume.pipeline.step.generate_question_thinking_process - Generating sample 1\n",
      "2024-10-16 12:12:11,107 - INFO - synthlume.pipeline.step.generate_question_thinking_process - Generating sample 2\n",
      "2024-10-16 12:12:16,420 - INFO - synthlume.pipeline.step.generate_question_thinking_process - Generating sample 3\n",
      "2024-10-16 12:12:21,638 - INFO - synthlume.pipeline.step.generate_question_thinking_process - Generating sample 4\n",
      "2024-10-16 12:12:31,575 - INFO - synthlume.pipeline.step.generate_question_thinking_process - Generating sample 5\n",
      "2024-10-16 12:12:39,461 - INFO - synthlume.pipeline.step.generate_question_thinking_process - Generating sample 6\n",
      "2024-10-16 12:12:44,975 - INFO - synthlume.pipeline.step.generate_question_thinking_process - Generating sample 7\n",
      "2024-10-16 12:12:52,752 - INFO - synthlume.pipeline.step.generate_question_thinking_process - Generating sample 8\n",
      "2024-10-16 12:12:58,310 - INFO - synthlume.pipeline.step.generate_question_thinking_process - Generating sample 9\n",
      "2024-10-16 12:13:04,650 - INFO - synthlume.pipeline.step.generate_question_thinking_process - Generating sample 10\n",
      "2024-10-16 12:13:09,566 - INFO - synthlume.pipeline.step.generate_question_thinking_process - Generating sample 11\n",
      "2024-10-16 12:13:15,199 - INFO - synthlume.pipeline.step.generate_question_thinking_process - Generating sample 12\n",
      "2024-10-16 12:13:22,060 - INFO - synthlume.pipeline.step.generate_question_thinking_process - Generating sample 13\n",
      "2024-10-16 12:13:29,329 - INFO - synthlume.pipeline.step.generate_question_thinking_process - Generating sample 14\n"
     ]
    },
    {
     "name": "stdout",
     "output_type": "stream",
     "text": [
      "\n",
      "Question: How have Tesla's adjustments of debt and EBITDA over time impacted its debt-to-EBITDA ratio, and what does this imply about its financial health compared to industry peers?\n",
      "\n",
      "\n",
      "Question: How have Tesla's adjusted EBITDA and total debt evolved over the years, and what impact has this had on its profitability margins as reflected in its financial ratios?\n",
      "\n",
      "\n",
      "Question: How have Tesla's revenue growth and adjusted EBITDA trends influenced its debt levels and credit rating over the years, particularly between 2017 and 2021?\n",
      "\n",
      "\n",
      "Question: How did the variations in Tesla's adjusted debt and EBITDA from 2016 to 2021 impact its profitability margins and liquidity ratios?\n",
      "\n",
      "\n",
      "Question: How have the trends in Tesla’s adjusted debt and EBITDA ratios evolved over the years, and what implications does this have for the company’s financial stability and profitability compared to industry peers?\n",
      "\n"
     ]
    }
   ],
   "source": [
    "# Initialize sampling generation step\n",
    "sampling_generation = GenerateQuestionThinkingProcess(\n",
    "    llm=llm_small,\n",
    "    language=\"en\",\n",
    "    documents=all_documents,\n",
    "    embeddings=embeddings,\n",
    "    n_samples=15,\n",
    "    n_documents=10,\n",
    "    min_distance=0.85,\n",
    "    max_distance=0.98,\n",
    ")\n",
    "\n",
    "# Initialize question refinement step\n",
    "generate_from_samples_step = GenerateQuestionFromSamples(llm=llm_large, language=\"en\")\n",
    "\n",
    "# Prepare results list\n",
    "sampling_results = []\n",
    "\n",
    "# Shuffle documents\n",
    "random.seed(SEED)\n",
    "random.shuffle(all_documents)\n",
    "\n",
    "# Iterate over document chunks\n",
    "for i, chunk in enumerate(all_documents[:MAX_STEPS]):\n",
    "    print(f\"Processing Chunk {i+1}/{MAX_STEPS} using Sampling Generation\")\n",
    "    try:\n",
    "        inputs = {\n",
    "            \"context\": chunk,\n",
    "            \"current_document\": chunk.metadata[\"source\"],\n",
    "        }\n",
    "\n",
    "        # Generate samples\n",
    "        samples_response = sampling_generation.generate(**inputs)\n",
    "\n",
    "        # Refine samples to generate final questions\n",
    "        generation = generate_from_samples_step.generate(**samples_response)\n",
    "\n",
    "        # Collect results\n",
    "        for option in generation[\"questions\"]:\n",
    "            question_data = {\n",
    "                \"question\": option[\"question\"],\n",
    "                \"answer\": option[\"answer\"],\n",
    "                \"context\": chunk.page_content,\n",
    "            }\n",
    "            sampling_results.append(question_data)\n",
    "\n",
    "            # Print the question\n",
    "            print(f\"\\nQuestion: {option['question']}\\n\")\n",
    "\n",
    "    except Exception as e:\n",
    "        print(f\"Error processing chunk {i+1}: {e}\")"
   ]
  },
  {
   "cell_type": "markdown",
   "id": "0b85e584-9208-415f-9927-95149b5780b0",
   "metadata": {},
   "source": [
    "## Regular Generation Approach\n",
    "\n",
    "In the regular generation method, we use a larger LLM with chain-of-thought reasoning to generate questions directly."
   ]
  },
  {
   "cell_type": "markdown",
   "id": "b43ee538-abaf-4e46-aa19-3a0f1c79c244",
   "metadata": {},
   "source": [
    "### Generate Questions Using Regular Method"
   ]
  },
  {
   "cell_type": "code",
   "execution_count": 22,
   "id": "df4ef5a4-7bca-4b56-9e10-af7c9ce5cf7f",
   "metadata": {},
   "outputs": [
    {
     "name": "stdout",
     "output_type": "stream",
     "text": [
      "Processing Chunk 1/5 using Regular Generation\n"
     ]
    },
    {
     "name": "stderr",
     "output_type": "stream",
     "text": [
      "2024-10-16 12:13:52,522 - INFO - synthlume.pipeline.step.generate_question_with_enhanced_context - Most similar scores: [0.9999971329818891, 0.7950722277164459, 0.7447011172771454, 0.7413454055786133, 0.7405601143836975, 0.7296861410140991, 0.7282407283782959, 0.7228216826915741, 0.7191706299781799, 0.7166908979415894, 0.715585321187973, 0.7137781381607056, 0.7111849784851074, 0.7066434323787689, 0.7050520181655884, 0.7050461173057556, 0.6996228098869324, 0.6987706124782562, 0.6977443695068359, 0.6976523697376251]\n"
     ]
    },
    {
     "name": "stdout",
     "output_type": "stream",
     "text": [
      "\n",
      "Question: How have economic volatility, weakened currencies, and government policies in emerging markets impacted Honda's motorcycle sales and, by extension, its automotive business during the pandemic?\n",
      "\n"
     ]
    },
    {
     "name": "stderr",
     "output_type": "stream",
     "text": [
      "2024-10-16 12:13:59,468 - INFO - synthlume.pipeline.step.generate_question_with_enhanced_context - Most similar scores: [0.9999971329818891, 0.7950722277164459, 0.7447011172771454, 0.7413454055786133, 0.7405601143836975, 0.7296861410140991, 0.7282407283782959, 0.7228216826915741, 0.7191706299781799, 0.7166908979415894, 0.715585321187973, 0.7137781381607056, 0.7111849784851074, 0.7066434323787689, 0.7050520181655884, 0.7050461173057556, 0.6996228098869324, 0.6987706124782562, 0.6977443695068359, 0.6976523697376251]\n"
     ]
    },
    {
     "name": "stdout",
     "output_type": "stream",
     "text": [
      "\n",
      "Question: How do economic volatility in emerging markets, government policies like deferred loan payments, and temporary production halts during the pandemic collectively influence Honda's motorcycle and automotive business performance?\n",
      "\n"
     ]
    },
    {
     "name": "stderr",
     "output_type": "stream",
     "text": [
      "2024-10-16 12:14:04,840 - INFO - synthlume.pipeline.step.generate_question_with_enhanced_context - Most similar scores: [0.9999971329818891, 0.7950722277164459, 0.7447011172771454, 0.7413454055786133, 0.7405601143836975, 0.7296861410140991, 0.7282407283782959, 0.7228216826915741, 0.7191706299781799, 0.7166908979415894, 0.715585321187973, 0.7137781381607056, 0.7111849784851074, 0.7066434323787689, 0.7050520181655884, 0.7050461173057556, 0.6996228098869324, 0.6987706124782562, 0.6977443695068359, 0.6976523697376251]\n",
      "2024-10-16 12:14:06,604 - INFO - synthlume.pipeline.step.generate_question_with_enhanced_context - Most similar scores: [0.9999926632435745, 0.95188969373703, 0.8659715056419373, 0.8626933991909027, 0.8598480522632599, 0.8512636125087738, 0.8506570011377335, 0.8489411175251007, 0.8468601107597351, 0.8458509296178818, 0.8425903618335724, 0.8394388407468796, 0.8335437476634979, 0.8325538337230682, 0.8297983556985855, 0.8275517523288727, 0.8260849714279175, 0.8234580010175705, 0.8230300545692444, 0.8216890245676041]\n"
     ]
    },
    {
     "name": "stdout",
     "output_type": "stream",
     "text": [
      "\n",
      "Question: How has Honda's motorcycle business been affected by both economic volatility in emerging markets and government policies during the pandemic?\n",
      "\n",
      "Processing Chunk 2/5 using Regular Generation\n"
     ]
    },
    {
     "name": "stderr",
     "output_type": "stream",
     "text": [
      "2024-10-16 12:14:10,302 - INFO - synthlume.pipeline.step.generate_question_with_enhanced_context - Most similar scores: [0.9999926632435745, 0.95188969373703, 0.8659715056419373, 0.8626933991909027, 0.8598480522632599, 0.8512636125087738, 0.8506570011377335, 0.8489411175251007, 0.8468601107597351, 0.8458509296178818, 0.8425903618335724, 0.8394388407468796, 0.8335437476634979, 0.8325538337230682, 0.8297983556985855, 0.8275517523288727, 0.8260849714279175, 0.8234580010175705, 0.8230300545692444, 0.8216890245676041]\n"
     ]
    },
    {
     "name": "stdout",
     "output_type": "stream",
     "text": [
      "\n",
      "Question: Considering the acceleration of electric vehicle initiatives by traditional automakers and Tesla's current market position, how might the competitive landscape impact Tesla's growth prospects and its ability to maintain industry-leading profit margins?\n",
      "\n"
     ]
    },
    {
     "name": "stderr",
     "output_type": "stream",
     "text": [
      "2024-10-16 12:14:17,167 - WARNING - synthlume.pipeline.step.json_step - Could not decode response as JSON, retrying (1/3)\n",
      "2024-10-16 12:14:17,168 - WARNING - synthlume.pipeline.step.json_step - Error: Expecting value: line 1 column 1 (char 0)\n",
      "2024-10-16 12:14:17,169 - WARNING - synthlume.pipeline.step.json_step - Response: ## Analytical Process ##\n",
      "\n",
      "1. **Identify Key Themes and Relationships**:\n",
      "    - **Theme 1**: Tesla's competitive landscape and production capabilities (Context 1, Context 4, Context 6).\n",
      "    - **Theme 2**: Financial metrics and growth expectations for Tesla (Context 2, Context 3, Context 5).\n",
      "    - **Theme 3**: Challenges and strengths in Tesla’s strategic positioning (Context 2, Context 3, Context 6).\n",
      "\n",
      "2. **Constructing the Question**:\n",
      "    - **Complexity and Depth**: The question should address multiple aspects such as competition, production, financial outlook, and strategic initiatives.\n",
      "    - **Cross-references**: Incorporate information from different contexts to ensure that the answer requires knowledge of Tesla’s market competition and financial/production strategies.\n",
      "\n",
      "Potential Question: \n",
      "\"How does Tesla's strategic planning in securing battery capacity and expanding production facilities compare with the competitive pressures from other automakers, and how do these factors influence Tesla's financial growth and EBITA margins?\"\n",
      "\n",
      "3. **Evaluation**:\n",
      "    - **Rule 1**: The question independently captures the topics without needing document chunks.\n",
      "    - **Rule 2**: It integrates production strategies (Context 1 and Context 6), competitive pressures (Context 4 and Context 6), and financial performance (Context 2 and Context 3).\n",
      "    - **Rule 3**: No direct references to specific chunks.\n",
      "    - **Rule 4**: Demonstrates a deep understanding by linking production, competition, and financial impacts.\n",
      "    - **Rule 5**: No reference to the task or its instructions.\n",
      "    - **Rule 6**: Addresses complex interactions between strategic planning, competition, and financial outcomes.\n",
      "    - **Rule 7**: Requires specific context for accurate answers, hence it should comply.\n",
      "\n",
      "## RESPONSE ##\n",
      "{\"question\": \"How does Tesla's strategic planning in securing battery capacity and expanding production facilities compare with the competitive pressures from other automakers, and how do these factors influence Tesla's financial growth and EBITA margins?\", \"answer\": \"Tesla’s proactive strategy of securing the largest battery cell capacity has put it ahead of other automakers who face constraints in production volumes due to limited battery availability. This early planning for a steep production increase has allowed Tesla to ramp up the production of its primary models, the Model 3 and Model Y, without the constraints faced by competitors (Context 1, Context 6). However, traditional automakers are accelerating their transition to electric vehicles, which could pose significant competition in the near future, especially as they bring considerable engineering and financial resources to the table (Context 4, Context 6). Financially, Tesla has seen a high EBITA margin, projected to decrease slightly but remain industry-leading. The expected compression in margins is due to price reductions introduced to stay competitive and comply with tax credits (Context 1, Context 2). Despite these pressures, Tesla’s aggressive expansion and investment strategy, along with its high liquidity, solidify its growth prospects, indicating robust financial health and the potential for sustained margin leadership (Context 2, Context 3, Context 5).\"}\n",
      "2024-10-16 12:14:27,486 - WARNING - synthlume.pipeline.step.json_step - Could not decode response as JSON, retrying (2/3)\n",
      "2024-10-16 12:14:27,488 - WARNING - synthlume.pipeline.step.json_step - Error: Expecting value: line 1 column 1 (char 0)\n",
      "2024-10-16 12:14:27,490 - WARNING - synthlume.pipeline.step.json_step - Response: ### Analytical Process\n",
      "1. **Identifying Key Themes:**\n",
      "   - The chunks provide detailed insights into Tesla's competitive environment, production capacity, market strategies, and financial outlook.\n",
      "   - Key themes include Tesla’s dependence on a limited number of models (Model 3 and Model Y), the implications of increased competition from other automakers, and the financial metrics showcasing Tesla's growth and projection metrics.\n",
      "\n",
      "2. **Interlinking Information:**\n",
      "   - **Context 1:** Discusses Tesla’s current model lineup, its market strategy, and challenges posed by competitors.\n",
      "   - **Context 2:** Highlights Tesla's competitive strengths and challenges, including its leading position in the BEV segment and the growing competition from traditional automakers.\n",
      "   - **Context 3:** Focuses on factors that might lead to Tesla's rating changes, including the necessity to maintain certain EBITA margins amidst increased competition.\n",
      "\n",
      "3. **Formulating a Question:**\n",
      "   - The question should integrate Tesla’s production and model strategy with the competitive pressures from other automakers and its financial strategies to maintain its market position.\n",
      "\n",
      "4. **Proposed Question:**\n",
      "   - \"How is Tesla strategizing to maintain its leading EBITA margins and competitive position in the face of increasing entries of other automakers into the battery electric vehicle market, and how does its reliance on a limited number of models play into this strategy?\"\n",
      "\n",
      "5. **Evaluation Against Rules:**\n",
      "   - **Rule 1:** The question is clear and understandable.\n",
      "   - **Rule 2:** Requires integrating information from multiple contexts (Tesla’s model strategy, competitive landscape, financial goals).\n",
      "   - **Rule 3:** No direct references to the chunks.\n",
      "   - **Rule 4:** Demonstrates deep understanding by linking strategic, financial, and competitive data.\n",
      "   - **Rule 5:** Does not refer to the task or instructions.\n",
      "   - **Rule 6:** It is complex, involving multiple factors.\n",
      "   - **Rule 7:** The question necessitates specific contextual information for an accurate answer.\n",
      "\n",
      "### Modifying the Question:\n",
      "- The initial proposed question already meets the criteria after the analysis, so no modification is necessary.\n",
      "\n",
      "### Comprehensive Answer Formation:\n",
      "- The answer should explain how Tesla is handling increased competition, its strategic use of a focused model lineup, and the financial maneuvers to maintain high EBITA margins.\n",
      "\n",
      "## RESPONSE ##\n",
      "{\"question\": \"How is Tesla strategizing to maintain its leading EBITA margins and competitive position in the face of increasing entries of other automakers into the battery electric vehicle market, and how does its reliance on a limited number of models play into this strategy?\", \"answer\": \"Tesla is leveraging its early and significant investment in battery production capacity and manufacturing efficiencies to maintain its competitive edge and industry-leading EBITA margins. Despite the rising competition from traditional automakers launching new electric vehicle models, Tesla has secured a considerable lead by planning for a steep production increase earlier than competitors, thus ensuring the largest battery cell capacity. This proactive approach helps mitigate risks associated with supply constraints. Tesla's strategy also includes maintaining high operational leverage, supported by its extensive manufacturing facilities in Berlin and Austin. Though the company relies heavily on the Model 3 and Model Y, these models have successfully captured significant market share, and the addition of newer models like the Cybertruck and semi-truck aims to expand its product lineup further. Financially, Tesla manages to navigate competitive pressures by leveraging scale efficiencies, cost-effective battery technologies like lithium iron phosphate for standard range models, and strategic pricing adjustments to qualify for tax credits under the Inflation Reduction Act. Overall, Tesla's focused model strategy, combined with its robust production planning and financial prudence, positions it well to sustain its EBITA margins and competitive stance despite the evolving market dynamics.\"}\n",
      "2024-10-16 12:14:33,536 - WARNING - synthlume.pipeline.step.json_step - Could not decode response as JSON, retrying (3/3)\n",
      "2024-10-16 12:14:33,538 - WARNING - synthlume.pipeline.step.json_step - Error: Expecting value: line 1 column 1 (char 0)\n",
      "2024-10-16 12:14:33,540 - WARNING - synthlume.pipeline.step.json_step - Response: ## Reasoning Steps ##\n",
      "1. Identify the key themes across the contexts:\n",
      "   - Context 1, 2, and 6 discuss Tesla’s product lineup, production capacity, and competition.\n",
      "   - Context 4 and 5 delve into broader market trends and regulatory impacts on the electric vehicle market.\n",
      "2. Connect Tesla’s specific competitive strengths and challenges with the broader market conditions and regulatory environment.\n",
      "3. Formulate a question that explores how Tesla’s current strategic decisions and market position are influenced by these broader market trends and regulations.\n",
      "\n",
      "## Potential Question ##\n",
      "\"How do Tesla's strategic decisions regarding its product lineup and production capacity, along with its competitive positioning, interplay with broader market trends and regulatory environments in the electric vehicle industry?\"\n",
      "\n",
      "## Analysis if Question Complies with Rules ##\n",
      "- Rule 1: The question is clear and understandable without the text chunks. It addresses Tesla’s strategy in relation to market trends and regulations.\n",
      "- Rule 2: The question requires information from multiple contexts (1, 2, 4, 5, and 6) to be answered fully.\n",
      "- Rule 3: The question does not reference specific chunks or tables.\n",
      "- Rule 4: Demonstrates an in-depth understanding of Tesla's strategic position and broader market conditions.\n",
      "- Rule 5: The question does not refer to the task or provided chunks.\n",
      "- Rule 6: The complexity is present by integrating strategic, market, and regulatory aspects.\n",
      "- Rule 7: The specific focus on Tesla's strategies and market conditions ensures it cannot be easily answered without the provided contexts.\n",
      "\n",
      "## RESPONSE ##\n",
      "{\"question\": \"How do Tesla's strategic decisions regarding its product lineup and production capacity, along with its competitive positioning, interplay with broader market trends and regulatory environments in the electric vehicle industry?\", \"answer\": \"Tesla's strategic decisions, such as focusing on the Model 3 and Model Y while planning for the Cybertruck and semi-truck production, are influenced heavily by broader market trends and regulatory environments. Tesla’s early investments in battery cell capacity have provided it a significant competitive edge. Despite increasing competition from traditional automakers and new electric-only entrants, Tesla’s emphasis on manufacturing efficiencies and battery development helps maintain its leadership. Regulatory support for BEVs, exemplified by emission regulations and fiscal incentives, generates tailwinds for Tesla. However, the expanding model offerings from competitors and regional variations in regulatory support could pose challenges to sustaining its market share. Tesla's decisions to reduce prices in various markets are also strategic moves to remain competitive and align with economic conditions, such as the expiration of tax credits in China. Moreover, Tesla's growth strategy, including the expansion of production capacities in Berlin and Austin, indicates its efforts to capitalize on the increasing global demand for electric vehicles, which is expected to grow significantly over the coming decade.\"}\n",
      "2024-10-16 12:14:33,541 - WARNING - synthlume.pipeline.step.generate_question_with_enhanced_context - Could not generate question, returning None\n"
     ]
    },
    {
     "name": "stdout",
     "output_type": "stream",
     "text": [
      "Error processing chunk 2: 'question'\n",
      "Processing Chunk 3/5 using Regular Generation\n"
     ]
    },
    {
     "name": "stderr",
     "output_type": "stream",
     "text": [
      "2024-10-16 12:14:33,902 - INFO - synthlume.pipeline.step.generate_question_with_enhanced_context - Most similar scores: [0.9999924593935248, 0.8661305904388428, 0.8509509265422821, 0.8492871224880219, 0.8262657821178436, 0.8224793672561646, 0.8087816536426544, 0.8040424138307571, 0.7779115587472916, 0.7760911881923676, 0.7745214551687241, 0.7732891738414764, 0.7562796175479889, 0.7473107576370239, 0.7365976572036743, 0.7258399128913879, 0.7033013999462128, 0.6912586688995361, 0.6824233531951904, 0.6650124788284302]\n",
      "2024-10-16 12:14:46,250 - WARNING - synthlume.pipeline.step.json_step - Could not decode response as JSON, retrying (1/3)\n",
      "2024-10-16 12:14:46,252 - WARNING - synthlume.pipeline.step.json_step - Error: Expecting value: line 1 column 1 (char 0)\n",
      "2024-10-16 12:14:46,253 - WARNING - synthlume.pipeline.step.json_step - Response: ## Analytical Process\n",
      "\n",
      "### Reasoning Steps:\n",
      "1. **Identify Key Themes and Insights:**\n",
      "    - **Context 1**: Discusses the overall sector impacts of the proposed Chinese tariffs on US exports, emphasizing sectors like agriculture, aerospace, and motor vehicles.\n",
      "    - **Context 2**: Highlights the specific negative impact on chemicals and plastics but notes the minimal effect due to the rerouting of trade flows and the small share of plastics exports to China.\n",
      "    - **Context 3**: Provides detailed data on US exports to China targeted by the tariffs, emphasizing the prominence of soybeans, aircraft, and motor vehicles.\n",
      "\n",
      "2. **Connect Themes Across Contexts:**\n",
      "    - **Sector Impact Overview (Context 1)**: Focuses on the broad sectoral impacts.\n",
      "    - **Specific Sector Impact on Chemicals (Context 2)**: Although chemicals are affected, the impact is mitigated by certain factors.\n",
      "    - **Detailed Export Data (Context 3)**: Gives specific figures on targeted exports and ties back to the significant exposure of sectors like soybeans and motor vehicles.\n",
      "\n",
      "3. **Formulate a Question:** \n",
      "    - The question should connect the broad sector impacts with specific data and mitigation factors.\n",
      "    - It should also explore the broader economic implications of these tariffs.\n",
      "\n",
      "4. **Potential Question:**\n",
      "    - \"In light of the proposed Chinese tariffs, how will the sectors of agriculture, aerospace, and motor vehicles be impacted in the US, and how do the mitigation factors in the chemicals sector compare to the overall credit implications for these industries?\"\n",
      "\n",
      "5. **Evaluate the Question:**\n",
      "    - **Rule 1**: The question is clear and understandable.\n",
      "    - **Rule 2**: Requires information from all three contexts to form a comprehensive answer.\n",
      "    - **Rule 3**: Does not include direct references to the document chunks.\n",
      "    - **Rule 4**: Shows an in-depth understanding by connecting specific sector impacts with broader economic effects and mitigation strategies.\n",
      "    - **Rule 5**: Does not refer back to the task instructions.\n",
      "    - **Rule 6**: The complexity of the question arises from the need to integrate various pieces of information.\n",
      "    - **Rule 7**: Specific details are necessary for an accurate answer, ensuring the question is tied to the context provided.\n",
      "\n",
      "### Modification and Compliance:\n",
      "- The initial question meets the necessary criteria.\n",
      "\n",
      "## RESPONSE ##\n",
      "```json\n",
      "{\n",
      "  \"question\": \"In light of the proposed Chinese tariffs, how will the sectors of agriculture, aerospace, and motor vehicles be impacted in the US, and how do the mitigation factors in the chemicals sector compare to the overall credit implications for these industries?\",\n",
      "  \"answer\": \"The proposed Chinese tariffs are set to significantly impact several US sectors, most notably agriculture, aerospace, and motor vehicles. Agriculture, particularly soybeans, is expected to face the largest negative impact due to the high volume of exports targeted by the tariffs, with soybeans alone comprising a substantial portion of agricultural exports to China. The aerospace and motor vehicle industries will also experience considerable negative effects, given their significant export volumes to China. In contrast, the chemicals sector, although listed among the industries affected, is likely to see a more modest impact. This is due to the commodity nature of many chemical products, which allows for rerouting trade flows and sustaining production levels. Additionally, plastics exports represent a smaller share of total production for major companies, further mitigating the impact. Overall, while the agriculture, aerospace, and motor vehicle sectors face significant credit implications, the chemicals sector benefits from inherent factors that help cushion the blow of the tariffs.\"\n",
      "}\n",
      "```\n"
     ]
    },
    {
     "name": "stdout",
     "output_type": "stream",
     "text": [
      "\n",
      "Question: What are the potential impacts of Chinese tariffs on different US sectors, and how might these impacts be mitigated according to the analysis?\n",
      "\n"
     ]
    },
    {
     "name": "stderr",
     "output_type": "stream",
     "text": [
      "2024-10-16 12:14:49,205 - INFO - synthlume.pipeline.step.generate_question_with_enhanced_context - Most similar scores: [0.9999924593935248, 0.8661305904388428, 0.8509509265422821, 0.8492871224880219, 0.8262657821178436, 0.8224793672561646, 0.8087816536426544, 0.8040424138307571, 0.7779115587472916, 0.7760911881923676, 0.7745214551687241, 0.7732891738414764, 0.7562796175479889, 0.7473107576370239, 0.7365976572036743, 0.7258399128913879, 0.7033013999462128, 0.6912586688995361, 0.6824233531951904, 0.6650124788284302]\n"
     ]
    },
    {
     "name": "stdout",
     "output_type": "stream",
     "text": [
      "\n",
      "Question: How do the proposed Chinese tariffs specifically impact the export volumes and trade dynamics of US agriculture (particularly soybeans) and chemicals sectors, and what strategies are these sectors likely to adopt to mitigate these impacts?\n",
      "\n"
     ]
    },
    {
     "name": "stderr",
     "output_type": "stream",
     "text": [
      "2024-10-16 12:14:56,099 - INFO - synthlume.pipeline.step.generate_question_with_enhanced_context - Most similar scores: [0.9999924593935248, 0.8661305904388428, 0.8509509265422821, 0.8492871224880219, 0.8262657821178436, 0.8224793672561646, 0.8087816536426544, 0.8040424138307571, 0.7779115587472916, 0.7760911881923676, 0.7745214551687241, 0.7732891738414764, 0.7562796175479889, 0.7473107576370239, 0.7365976572036743, 0.7258399128913879, 0.7033013999462128, 0.6912586688995361, 0.6824233531951904, 0.6650124788284302]\n",
      "2024-10-16 12:15:03,066 - WARNING - synthlume.pipeline.step.json_step - Could not decode response as JSON, retrying (1/3)\n",
      "2024-10-16 12:15:03,068 - WARNING - synthlume.pipeline.step.json_step - Error: Expecting value: line 1 column 1 (char 0)\n",
      "2024-10-16 12:15:03,068 - WARNING - synthlume.pipeline.step.json_step - Response: ##RESPONSE##\n",
      "Reasoning Steps:\n",
      "1. Identify the key sectors impacted by the proposed Chinese tariffs: agriculture (particularly soybeans), aerospace, motor vehicles, chemicals, plastics, and rubber (Context 1 and Context 2).\n",
      "2. The specific products within these sectors and their export volumes to China are detailed, indicating the significant impact on the US economy (Context 3).\n",
      "\n",
      "Potential Question: \"How do the proposed Chinese tariffs target specific US export sectors, and what are the potential macroeconomic implications for the US economy, particularly focusing on agriculture, aerospace, motor vehicles, and chemicals?\"\n",
      "\n",
      "Analysis if question complies with rules:\n",
      "- Rule 1: The question is clear and addresses the specific impacts of Chinese tariffs on US sectors.\n",
      "- Rule 2: Requires information from all three contexts to provide a comprehensive answer.\n",
      "- Rule 3: Avoids direct references to the document chunks.\n",
      "- Rule 4: Demonstrates in-depth understanding by linking targeted sectors and macroeconomic implications.\n",
      "- Rule 5: Does not refer back to the task or instructions.\n",
      "- Rule 6: The complexity arises from understanding sector-specific impacts and broader economic consequences.\n",
      "- Rule 7: The question requires specific context details to answer appropriately.\n",
      "\n",
      "Thus, the question complies with all rules. Now, generate the answer based on provided contexts.\n",
      "\n",
      "Answer: \"The proposed Chinese tariffs are aimed at several critical US export sectors, including agriculture (soybeans in particular), aerospace, motor vehicles, chemicals, plastics, and rubber. For instance, soybeans, which form a significant part of US agricultural exports to China, are specifically targeted, potentially leading to substantial revenue losses for US farmers. Aerospace and motor vehicles, with considerable export volumes, face challenges as tariffs could lead to reduced demand from China. In the chemicals sector, although the tariffs are expected to have a modest negative impact, the ability to reroute trade flows might mitigate some losses. Overall, these targeted tariffs could weaken consumer and business confidence, create financial market turbulence, and reduce business investment, resulting in negative macroeconomic effects for the US economy.\"\n",
      "\n",
      "##RESPONSE##\n",
      "{\"question\": \"How do the proposed Chinese tariffs target specific US export sectors, and what are the potential macroeconomic implications for the US economy, particularly focusing on agriculture, aerospace, motor vehicles, and chemicals?\", \"answer\": \"The proposed Chinese tariffs are aimed at several critical US export sectors, including agriculture (soybeans in particular), aerospace, motor vehicles, chemicals, plastics, and rubber. For instance, soybeans, which form a significant part of US agricultural exports to China, are specifically targeted, potentially leading to substantial revenue losses for US farmers. Aerospace and motor vehicles, with considerable export volumes, face challenges as tariffs could lead to reduced demand from China. In the chemicals sector, although the tariffs are expected to have a modest negative impact, the ability to reroute trade flows might mitigate some losses. Overall, these targeted tariffs could weaken consumer and business confidence, create financial market turbulence, and reduce business investment, resulting in negative macroeconomic effects for the US economy.\"}\n",
      "2024-10-16 12:15:16,234 - WARNING - synthlume.pipeline.step.json_step - Could not decode response as JSON, retrying (2/3)\n",
      "2024-10-16 12:15:16,236 - WARNING - synthlume.pipeline.step.json_step - Error: Expecting value: line 1 column 1 (char 0)\n",
      "2024-10-16 12:15:16,237 - WARNING - synthlume.pipeline.step.json_step - Response: ## Analytical Process:\n",
      "\n",
      "1. **Identify Key Themes**:\n",
      "   - **Context 1**: Discusses the impact of proposed Chinese tariffs on various US sectors, highlighting agriculture (specifically soybeans), aerospace, motor vehicles, chemicals, plastics, and rubber.\n",
      "   - **Context 2**: Delves deeper into the expected modest negative impact on US chemicals due to easy rerouting of trade flows and highlights that plastics exports to China form a small share of total production for major companies.\n",
      "   - **Context 3**: Provides specific data on US exports to China in various sectors, noting that soybeans, aircraft, electrical machinery, mechanical appliances, and vehicles are among the top export products targeted by Chinese tariffs.\n",
      "\n",
      "2. **Identify Relationships and Insights Across Contexts**:\n",
      "   - The primary sectors affected by the tariffs are consistently highlighted across contexts.\n",
      "   - Context 1 mentions the concentration of impact across sectors.\n",
      "   - Context 2 and Context 3 provide specific details and data on the sectors and their exports to China.\n",
      "\n",
      "3. **Formulate a Complex Question**:\n",
      "   - The question should require synthesis of impacts across multiple sectors, particularly focusing on agriculture, motor vehicles, and chemicals due to their detailed mention and specifics provided across contexts.\n",
      "\n",
      "4. **Propose a Potential Question**:\n",
      "   - How will the proposed Chinese tariffs, particularly targeting key US export sectors like agriculture (soybeans), motor vehicles, and chemicals, likely affect US economic stability and specific sectoral dynamics?\n",
      "\n",
      "5. **Evaluate the Question Against Generation Rules**:\n",
      "   - **Rule 1**: The question is clear and meaningful on its own.\n",
      "   - **Rule 2**: It requires integration of details from all three contexts.\n",
      "   - **Rule 3**: No direct references to the document chunks.\n",
      "   - **Rule 4**: Demonstrates understanding by linking tariffs to economic and sectoral impacts.\n",
      "   - **Rule 5**: No reference to the task or instructions.\n",
      "   - **Rule 6**: The complexity lies in understanding multifaceted impacts of tariffs.\n",
      "   - **Rule 7**: The specific sectors and their detailed impacts as referenced in contexts ensure this question cannot be answered without the provided details.\n",
      "\n",
      "6. **Generate an Answer**:\n",
      "   - Answer must address the impacts on agriculture, motor vehicles, and chemicals, linking them to broader US economic stability.\n",
      "\n",
      "## RESPONSE ##\n",
      "{\"question\": \"How will the proposed Chinese tariffs, particularly targeting key US export sectors like agriculture (soybeans), motor vehicles, and chemicals, likely affect US economic stability and specific sectoral dynamics?\", \"answer\": \"The proposed Chinese tariffs are poised to significantly impact US economic stability by targeting key export sectors. In agriculture, soybeans are notably affected, representing a major share of US agricultural exports to China. The tariffs could severely hit soybean farmers, potentially leading to reduced income and increased financial stress in the agriculture sector. Motor vehicles, another major export to China, could face decreased demand, affecting not only manufacturers but also the extensive supply chain involved in vehicle production. For the chemicals sector, while the impact is expected to be modestly negative due to the ability to reroute trade flows, it will still present challenges for producers to maintain high production levels. Collectively, these sectoral impacts could lead to broader economic instability by harming trade balances, investor confidence, and overall economic growth.\"}\n"
     ]
    },
    {
     "name": "stdout",
     "output_type": "stream",
     "text": [
      "\n",
      "Question: How do the proposed Chinese tariffs specifically target US exports, and what are the projected impacts on critical industries such as agriculture and chemicals?\n",
      "\n",
      "Processing Chunk 4/5 using Regular Generation\n"
     ]
    },
    {
     "name": "stderr",
     "output_type": "stream",
     "text": [
      "2024-10-16 12:15:24,285 - INFO - synthlume.pipeline.step.generate_question_with_enhanced_context - Most similar scores: [1.0, 0.8219613283872604, 0.8170081079006195, 0.8061583340167999, 0.8007654845714569, 0.7950980216264725, 0.7894247621297836, 0.7758824974298477, 0.7746129930019379, 0.7736906856298447, 0.7697441577911377, 0.7679910808801651, 0.761779859662056, 0.7612704634666443, 0.7554852366447449, 0.7538959383964539, 0.7526652216911316, 0.752517819404602, 0.7480019927024841, 0.7472227513790131]\n",
      "2024-10-16 12:15:26,908 - INFO - synthlume.pipeline.step.generate_question_with_enhanced_context - Most similar scores: [1.0, 0.8219613283872604, 0.8170081079006195, 0.8061583340167999, 0.8007654845714569, 0.7950980216264725, 0.7894247621297836, 0.7758824974298477, 0.7746129930019379, 0.7736906856298447, 0.7697441577911377, 0.7679910808801651, 0.761779859662056, 0.7612704634666443, 0.7554852366447449, 0.7538959383964539, 0.7526652216911316, 0.752517819404602, 0.7480019927024841, 0.7472227513790131]\n"
     ]
    },
    {
     "name": "stdout",
     "output_type": "stream",
     "text": [
      "\n",
      "Question: How is the projected increase in leverage for companies involved in electric vehicle (EV) battery production expected to impact their Baa1 rating, and what risks do these companies face in the context of growing EV battery demand?\n",
      "\n"
     ]
    },
    {
     "name": "stderr",
     "output_type": "stream",
     "text": [
      "2024-10-16 12:15:29,141 - INFO - synthlume.pipeline.step.generate_question_with_enhanced_context - Most similar scores: [1.0, 0.8219613283872604, 0.8170081079006195, 0.8061583340167999, 0.8007654845714569, 0.7950980216264725, 0.7894247621297836, 0.7758824974298477, 0.7746129930019379, 0.7736906856298447, 0.7697441577911377, 0.7679910808801651, 0.761779859662056, 0.7612704634666443, 0.7554852366447449, 0.7538959383964539, 0.7526652216911316, 0.752517819404602, 0.7480019927024841, 0.7472227513790131]\n"
     ]
    },
    {
     "name": "stdout",
     "output_type": "stream",
     "text": [
      "\n",
      "Question: Considering the significant contribution of the EV battery business to the overall operating profit and the projected increase in leverage over the next one to two years, what are the key operational and investment risks associated with the growth in EV battery demand?\n",
      "\n",
      "\n",
      "Question: How does the anticipated increase in leverage over the next one to two years and the global growth in EV battery demand influence the financial stability and risk management strategies of companies in the electric-vehicle battery industry?\n",
      "\n",
      "Processing Chunk 5/5 using Regular Generation\n"
     ]
    },
    {
     "name": "stderr",
     "output_type": "stream",
     "text": [
      "2024-10-16 12:15:40,097 - INFO - synthlume.pipeline.step.generate_question_with_enhanced_context - Most similar scores: [0.9999700465668866, 0.8852085843682289, 0.8800028637051582, 0.8793438673019409, 0.876979410648346, 0.8756560608744621, 0.8745653629302979, 0.8741365373134613, 0.8713633716106415, 0.8710337728261948, 0.8676546812057495, 0.8641162216663361, 0.8473677337169647, 0.8463115841150284, 0.8461651802062988, 0.8426218926906586, 0.8419212996959686, 0.8416228294372559, 0.8407158553600311, 0.8301418870687485]\n",
      "2024-10-16 12:15:45,217 - WARNING - synthlume.pipeline.step.json_step - Could not decode response as JSON, retrying (1/3)\n",
      "2024-10-16 12:15:45,219 - WARNING - synthlume.pipeline.step.json_step - Error: Expecting value: line 1 column 1 (char 0)\n",
      "2024-10-16 12:15:45,220 - WARNING - synthlume.pipeline.step.json_step - Response: ##RESPONSE##\n",
      "Reasoning Steps:\n",
      "1. Examine Context 1 for data on adjusted debt and EBITDA over the years, highlighting trends and anomalies.\n",
      "2. Review Context 2 for financial summaries such as revenue, debt, and cash flow, noting how these figures interact with the adjusted debt and EBITDA.\n",
      "3. Explore Context 3's breakdowns of adjusted debt and EBITDA for consistency and changes through different periods.\n",
      "4. Summarize insights from Context 4's adjustments to EBITDA figures, highlighting how operational leases and unusual items contribute to these adjustments.\n",
      "5. Analyze Context 5 for a peer comparison to provide a benchmark for Tesla's metrics.\n",
      "6. Collate Contexts 6 through 11 for a comprehensive understanding of Tesla’s financial health, considering factors like leverage, interest coverage, and profitability.\n",
      "\n",
      "Potential Question: \"How have changes in Tesla’s adjusted debt and EBITDA over recent years, considering operational leases and unusual items, affected its financial leverage and interest coverage ratios compared to its industry peers?\"\n",
      "\n",
      "Analysis if question complies with rules:\n",
      "- Rule 1: The question is clear and meaningful without needing document-specific context.\n",
      "- Rule 2: It requires information from multiple contexts, including adjusted debt and EBITDA from several contexts.\n",
      "- Rule 3: No direct references to the text within the question.\n",
      "- Rule 4: The question demonstrates a complex understanding of financial metrics and their implications.\n",
      "- Rule 5: The question does not refer back to the task or instructions.\n",
      "- Rule 6: The question's complexity involves evaluating multiple financial metrics over a span of years.\n",
      "- Rule 7: The question cannot be accurately answered without specific contextual financial data provided.\n",
      "\n",
      "Since the question meets all the criteria, proceed to generate the answer.\n",
      "\n",
      "##RESPONSE##\n",
      "{\"question\": \"How have changes in Tesla’s adjusted debt and EBITDA over recent years, considering operational leases and unusual items, affected its financial leverage and interest coverage ratios compared to its industry peers?\", \"answer\": \"Tesla's adjusted debt and EBITDA figures have fluctuated significantly over recent years. The incorporation of operational leases and unusual items into EBITDA adjustments shows a more nuanced picture of Tesla's financial health. Initially, Tesla’s high adjusted debt levels and volatile EBITDA contributed to poor leverage ratios and interest coverage, evidenced by metrics like Debt/EBITDA and EBIT/Interest Expense ratios. However, with the expansion of Model 3 production and operational efficiencies, EBITDA improved, reducing the Debt/EBITDA ratio and improving interest coverage metrics. Compared to its industry peers, Tesla's financial leverage has improved, as seen in the debt reductions and increasing cash reserves. The company's EBITDA margins and coverage ratios have become more favorable, reflecting better financial stability and competitive positioning in the market.\"}\n",
      "2024-10-16 12:15:53,408 - WARNING - synthlume.pipeline.step.json_step - Could not decode response as JSON, retrying (2/3)\n",
      "2024-10-16 12:15:53,410 - WARNING - synthlume.pipeline.step.json_step - Error: Expecting value: line 1 column 1 (char 0)\n",
      "2024-10-16 12:15:53,411 - WARNING - synthlume.pipeline.step.json_step - Response: ## Analytical Process ##\n",
      "1. **Context Identification**:\n",
      "   - **Context 1, Context 3, Context 6, Context 7, Context 8, Context 10**: These contexts provide detailed data on Tesla's adjusted debt and EBITDA figures over several years.\n",
      "   - **Context 2, Context 4, Context 9, Context 11**: These contexts offer summary financials and key indicators, including profitability margins, balance sheet details, and cash flows.\n",
      "\n",
      "2. **Key Themes and Insights**:\n",
      "   - **Debt and EBITDA Evolution**: Several contexts (1, 3, 7, 8, 10) provide a breakdown of Tesla's adjusted debt and EBITDA, showing the annual variations over a significant period.\n",
      "   - **Profitability and Leverage**: Other contexts (2, 4, 6) discuss key financial indicators such as changes in sales, EBITDA margins, and leverage ratios.\n",
      "\n",
      "3. **Possible Question Development**:\n",
      "   - Link the evolution of Tesla's debt and EBITDA over the years with the broader financial indicators such as profitability margins and leverage ratios.\n",
      "   - The question should require an understanding of how the changes in debt and EBITDA have impacted Tesla’s financial health and its strategic decisions over time.\n",
      "\n",
      "4. **Initial Question Proposal**:\n",
      "   - **Initial Question**: \"How have Tesla's adjusted debt and EBITDA figures evolved over the years, and how do these changes correlate with its profitability margins and leverage ratios?\"\n",
      "\n",
      "5. **Evaluation Against Rules**:\n",
      "   - Rule 1: The question is clear and meaningful on its own.\n",
      "   - Rule 2: Requires integration of multiple contexts.\n",
      "   - Rule 3: No direct references to chunks.\n",
      "   - Rule 4: Demonstrates understanding of financial metrics and their impact.\n",
      "   - Rule 5: No task references.\n",
      "   - Rule 6: Complex, involving several financial metrics.\n",
      "   - Rule 7: The specific mention of Tesla and detailed financial metrics ensures it needs context to answer accurately.\n",
      "\n",
      "## RESPONSE ##\n",
      "{\"question\": \"How have Tesla's adjusted debt and EBITDA figures evolved over the years, and how do these changes correlate with its profitability margins and leverage ratios?\", \"answer\": \"Tesla's adjusted debt has shown significant fluctuations over the years, starting from $3,097 million in 2015 to peaking at $14,603 million in 2019 before declining to $5,874 million by the latest reported period. Concurrently, the Moody's-adjusted EBITDA also rose notably from negative figures in the early years, turning positive and reaching $16,833 million by 2022. These changes are closely correlated with shifts in Tesla's profitability margins and leverage ratios. For example, the EBITDA margin grew from 0.6% in 2017 to 13.4% in 2022, indicating improved operational efficiency. The debt/EBITDA ratio, which was extremely high at 149.8x in 2017, improved significantly to around 0.3x by 2022, reflecting better debt management and higher earnings. These financial improvements signal a stronger, more stable financial positioning for Tesla, driven by increased revenue and disciplined financial strategies.\"}\n",
      "2024-10-16 12:16:03,135 - WARNING - synthlume.pipeline.step.json_step - Could not decode response as JSON, retrying (3/3)\n",
      "2024-10-16 12:16:03,137 - WARNING - synthlume.pipeline.step.json_step - Error: Expecting value: line 1 column 1 (char 0)\n",
      "2024-10-16 12:16:03,138 - WARNING - synthlume.pipeline.step.json_step - Response: ##RESPONSE##\n",
      "\n",
      "### Analytical Process:\n",
      "1. **Identify Key Themes and Insights:**\n",
      "   - Contexts 1, 3, and 8 provide various breakdowns of Tesla's adjusted debt and EBITDA figures over multiple years.\n",
      "   - Contexts 2, 6, and 9 detail Tesla's financial performance, including income statements, balance sheets, cash flow, and profitability metrics over time.\n",
      "   - Context 5 offers a peer comparison, highlighting Tesla's performance in relation to other automotive companies.\n",
      "  \n",
      "2. **Synthesize Information Across Contexts:**\n",
      "   - From Contexts 1 and 3, note the significant increase in both adjusted debt and EBITDA over the years.\n",
      "   - From Context 6 and 9, analyze the company's changes in revenue, profitability, and cash flow metrics over the same period.\n",
      "   - Incorporate the peer comparison data from Context 5 for a broader market perspective.\n",
      "\n",
      "3. **Formulate a Question:**\n",
      "   - The question must connect Tesla’s growth and increased debt/EBITDA figures with its evolving financial performance and market positioning.\n",
      "\n",
      "### Potential Question:\n",
      "\"How did Tesla's increasing adjusted debt and EBITDA from 2015 to 2020 impact its overall financial performance and market positioning compared to its automotive peers?\"\n",
      "\n",
      "### Evaluate Against Rules:\n",
      "- Rule 1: The question is clear and meaningful on its own.\n",
      "- Rule 2: Requires integration of information on debt, EBITDA, and financial performance (Contexts 1, 3, 5, 6, 9).\n",
      "- Rule 3: Avoids direct references or links to specific chunks.\n",
      "- Rule 4: Demonstrates a complex understanding linking financial metrics with market positioning.\n",
      "- Rule 5: No mention of the task.\n",
      "- Rule 6: The complexity arises from connecting multiple financial indicators and their broader implications.\n",
      "- Rule 7: Requires specific context data to answer accurately.\n",
      "\n",
      "### Generate an Answer:\n",
      "- The answer should encapsulate the financial data trends and compare it with market peers.\n",
      "\n",
      "##RESPONSE##\n",
      "{\"question\": \"How did Tesla's increasing adjusted debt and EBITDA from 2015 to 2020 impact its overall financial performance and market positioning compared to its automotive peers?\", \"answer\": \"Tesla's journey from 2015 to 2020 shows significant increases in both adjusted debt and EBITDA, reflecting its aggressive expansion and production ramp-up, particularly with the Model 3. For example, Tesla's Moody's-adjusted debt rose from $3,098 million in 2015 to $14,603 million in 2019, while its EBITDA increased from -$266 million to $2,749 million over the same period. This financial growth allowed Tesla to strengthen its market position, despite the challenges posed by high debt levels and initial negative profitability. By 2020, Tesla's EBITDA margin improved significantly to 8.7%, surpassing many of its peers such as Volvo and General Motors in terms of profitability and operational efficiency. Tesla's ability to generate substantial free cash flow, despite occasional negative profitability years, and its increasing cash reserves further improved its liquidity and investment appeal compared to its competitors. These trends indicate Tesla's strategic focus on scalability and market penetration, positioning itself as a strong leader in the electric vehicle market.\"}\n",
      "2024-10-16 12:16:03,139 - WARNING - synthlume.pipeline.step.generate_question_with_enhanced_context - Could not generate question, returning None\n"
     ]
    },
    {
     "name": "stdout",
     "output_type": "stream",
     "text": [
      "Error processing chunk 5: 'question'\n"
     ]
    }
   ],
   "source": [
    "# Initialize regular generation step\n",
    "multicontext_generation_step = GenerateQuestionWithEnhancedContextStep(\n",
    "    llm=llm_large,\n",
    "    language=\"en\",\n",
    "    documents=all_documents,\n",
    "    embeddings=embeddings,\n",
    "    n_documents=10,\n",
    "    min_distance=0.85,\n",
    "    max_distance=0.98,\n",
    ")\n",
    "\n",
    "# Prepare results list\n",
    "regular_results = []\n",
    "\n",
    "# Iterate over the same document chunks\n",
    "for i, chunk in enumerate(all_documents[:MAX_STEPS]):\n",
    "    print(f\"Processing Chunk {i+1}/{MAX_STEPS} using Regular Generation\")\n",
    "    try:\n",
    "        inputs = {\n",
    "            \"context\": chunk,\n",
    "            \"current_document\": chunk.metadata[\"source\"],\n",
    "        }\n",
    "\n",
    "        # Generate questions\n",
    "        for _ in range(3):  # Generate 3 questions per chunk\n",
    "            generated_question = multicontext_generation_step.generate(**inputs)\n",
    "            regular_results.append(generated_question)\n",
    "\n",
    "            # Print the question\n",
    "            print(f\"\\nQuestion: {generated_question['question']}\\n\")\n",
    "\n",
    "    except Exception as e:\n",
    "        print(f\"Error processing chunk {i+1}: {e}\")"
   ]
  },
  {
   "cell_type": "markdown",
   "id": "b281a6e9-3de0-48c3-a0b3-00f2aa3ad50d",
   "metadata": {},
   "source": [
    "# Conclusion"
   ]
  },
  {
   "cell_type": "markdown",
   "id": "d95e6890-271b-4b02-bf77-0e614ce9e182",
   "metadata": {},
   "source": [
    "### Comparative Analysis: Sampling Generation vs. Regular Generation\n",
    "\n",
    "When comparing **sampling generation** and **regular generation** for question generation in LLMs, several key differences and insights can be drawn based on the depth, variety, and specificity of the generated questions. Below, we break down the comparative analysis using various criteria.\n",
    "\n",
    "---\n",
    "\n",
    "### 1. **Depth of the Questions**\n",
    "\n",
    "**Sampling Generation:**\n",
    "- **Examples:**  \n",
    "   - *\"How do economic recovery factors, including currency fluctuations, tourism dependency, and government policies, influence consumer demand for Honda's motorcycle and automotive products in emerging markets?\"*\n",
    "   - *\"How does Tesla's competitive advantage in the electric vehicle market, particularly its operational efficiency and product lineup, mitigate the risks posed by increasing competition?\"*\n",
    "\n",
    "   **Analysis**: Sampling generation tends to produce more **multi-layered questions** that encompass multiple dimensions of the issue. For example, questions often include a combination of economic conditions, market dynamics, competitive positioning, and regulatory factors. These questions prompt deeper exploration and encourage a broader analysis of the relationships between various factors (e.g., \"economic recovery,\" \"consumer demand,\" and \"government policies\"). \n",
    "\n",
    "**Regular Generation:**\n",
    "- **Examples:**  \n",
    "   - *\"How has Honda's motorcycle business been affected by both economic volatility in emerging markets and government policies during the pandemic?\"*  \n",
    "   - *\"Considering the acceleration of electric vehicle initiatives by traditional automakers and Tesla's current market position, how might the competitive landscape impact Tesla's growth prospects?\"*\n",
    "\n",
    "   **Analysis**: Regular generation tends to produce more **focused questions** that address a specific aspect of the issue. The questions are often direct and clear, focusing on a single element like \"motorcycle business\" or \"competitive landscape.\" While these questions are useful, they may lack the breadth seen in sampling-generated questions, making them slightly less exploratory.\n",
    "\n",
    "**Conclusion**: Sampling generation produces more in-depth and multifaceted questions, providing greater insight into complex issues.\n",
    "\n",
    "---\n",
    "\n",
    "### 2. **Variety of Topics**\n",
    "\n",
    "**Sampling Generation:**\n",
    "- Covers a **wide range of topics** within the same domain, addressing various angles and interconnected factors. For instance, in the questions about Honda and Tesla, the approach touches on:\n",
    "  - Economic conditions\n",
    "  - Government policies\n",
    "  - Market competition\n",
    "  - Consumer behavior\n",
    "  - Production strategies\n",
    "\n",
    "   The variety also extends to different industries, such as US-China trade, automotive market dynamics, and electric vehicle battery demand. This breadth suggests that sampling generation better captures nuances in different contexts.\n",
    "\n",
    "**Regular Generation:**\n",
    "- Tends to stick to **key central themes** with less variation in the scope. For example, questions regarding Tesla focus mainly on competitive pressures and leverage but don’t explore as many factors like market shifts, regulatory environments, or specific financial outcomes.\n",
    "\n",
    "**Conclusion**: Sampling generation provides greater variety, allowing for more comprehensive coverage of a topic from multiple angles.\n",
    "\n",
    "---\n",
    "\n",
    "### 3. **Specificity of Questions**\n",
    "\n",
    "**Sampling Generation:**\n",
    "- Often includes **more detailed and specific criteria** in the questions. For example:\n",
    "   - *\"How do Tesla's competitive advantage in battery electric vehicle production and regulatory support position the company to manage anticipated shifts in market dynamics due to increased vehicle offerings?\"*\n",
    "  \n",
    "   These questions force the user to consider multiple interrelated factors (e.g., \"competitive advantage,\" \"battery production,\" and \"regulatory support\"), leading to a richer, more precise answer.\n",
    "\n",
    "**Regular Generation:**\n",
    "- Questions are more **general** and often focus on broader themes without delving into specifics. For example:\n",
    "   - *\"How has Honda's motorcycle business been affected by economic volatility in emerging markets?\"*\n",
    "\n",
    "   This structure allows for an answer that is straightforward but might lack the layers of insight required for a deep analysis.\n",
    "\n",
    "**Conclusion**: Sampling generation offers greater specificity, prompting more detailed answers and fostering deeper insights.\n",
    "\n",
    "---\n",
    "\n",
    "### 4. **Complexity and Layering**\n",
    "\n",
    "**Sampling Generation:**\n",
    "- The questions often contain **multiple layers**, combining several dimensions like financial performance, market competition, government policies, and external risks. For instance, the question about Tesla's competitive positioning and operational efficiency asks for an analysis across several business areas.\n",
    "\n",
    "**Regular Generation:**\n",
    "- While still insightful, the questions generated without sampling tend to be **less complex**. They generally focus on one key issue, such as a company’s financial leverage or sales in specific regions, without necessarily requiring the same level of multi-dimensional analysis.\n",
    "\n",
    "**Conclusion**: Sampling generation tends to generate more complex, layered questions that explore interconnected factors.\n",
    "\n",
    "---\n",
    "\n",
    "### 5. **Practicality and Usability**\n",
    "\n",
    "**Sampling Generation:**\n",
    "- These questions, while deeper and more insightful, may be **more challenging to answer** due to their complexity. In certain cases, they may require more resources (e.g., access to specific datasets or additional models) to answer comprehensively.\n",
    "\n",
    "**Regular Generation:**\n",
    "- Provides **more practical, easily answerable questions**, which are suitable for straightforward analyses. They are direct and can be addressed with less exploratory effort, making them more feasible in situations where time and resources are constrained.\n",
    "\n",
    "**Conclusion**: Regular generation might be more practical for quick, direct analysis, while sampling generation is ideal for in-depth research requiring more exploration.\n",
    "\n",
    "---\n",
    "\n",
    "### 6. **Criteria for Choosing Between the Two**\n",
    "\n",
    "- **Exploration and Insight Depth**: Choose **sampling generation** when the goal is to explore a topic deeply, uncover hidden patterns, or analyze complex relationships.\n",
    "- **Efficiency and Simplicity**: Choose **regular generation** when you need straightforward, quick answers or are working within limited constraints.\n",
    "- **Complex Analysis**: Sampling generation is better suited for research or business analysis where understanding the interplay of multiple factors is critical.\n",
    "- **Breadth of Scope**: If you're looking for a broad range of angles on a single issue, sampling generation will likely provide a more varied set of questions.\n",
    "\n",
    "---\n",
    "\n",
    "### Final Verdict\n",
    "\n",
    "**Sampling Generation** is superior in terms of depth, variety, and specificity. It produces questions that encourage complex and multi-dimensional analysis, which is crucial for in-depth explorations or when you're dealing with nuanced topics like market dynamics or financial health. \n",
    "\n",
    "**Regular Generation**, on the other hand, excels at producing clear, concise, and easy-to-answer questions, making it more practical for scenarios where simplicity and directness are needed.\n",
    "\n"
   ]
  },
  {
   "cell_type": "code",
   "execution_count": null,
   "id": "58458e4e-eb0f-42d6-9859-67648c527ccb",
   "metadata": {},
   "outputs": [],
   "source": []
  }
 ],
 "metadata": {
  "kernelspec": {
   "display_name": "Python 3 (ipykernel)",
   "language": "python",
   "name": "python3"
  },
  "language_info": {
   "codemirror_mode": {
    "name": "ipython",
    "version": 3
   },
   "file_extension": ".py",
   "mimetype": "text/x-python",
   "name": "python",
   "nbconvert_exporter": "python",
   "pygments_lexer": "ipython3",
   "version": "3.9.18"
  }
 },
 "nbformat": 4,
 "nbformat_minor": 5
}
