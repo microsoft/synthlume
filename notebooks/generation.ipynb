{
 "cells": [
  {
   "cell_type": "code",
   "execution_count": 1,
   "metadata": {},
   "outputs": [],
   "source": [
    "import json\n",
    "import random\n",
    "\n",
    "from langchain_openai import AzureOpenAIEmbeddings\n",
    "from langchain_openai import AzureChatOpenAI\n",
    "\n",
    "from synthlume.pipeline.step import (\n",
    "    DescriptionStep,\n",
    "    GenerateQuestionStep,\n",
    "    HumanifyQuestionStep,\n",
    "    ScenarioQuestionStep,\n",
    "    QuestionStyleSimpleStep,\n",
    "    QuestionStyleCompleteSentenseStep,\n",
    "    MultipleChoiceQuestionStep,\n",
    "    GenerateMulticontextQuestionStep\n",
    ")\n",
    "from langchain.text_splitter import RecursiveCharacterTextSplitter\n",
    "from langchain.document_loaders import PyPDFLoader\n",
    "from langchain.embeddings.sentence_transformer import SentenceTransformerEmbeddings\n",
    "\n",
    "from dotenv import load_dotenv\n",
    "import os"
   ]
  },
  {
   "cell_type": "code",
   "execution_count": 2,
   "metadata": {},
   "outputs": [],
   "source": [
    "load_dotenv()\n",
    "\n",
    "## constants\n",
    "AZURE_OPENAI_KEY = os.getenv(\"AZURE_OPENAI_KEY\")\n",
    "AZURE_DEPLOYMENT_NAME = os.getenv(\"AZURE_DEPLOYMENT_NAME\")\n",
    "AZURE_ENDPOINT=os.getenv(\"AZURE_ENDPOINT\")"
   ]
  },
  {
   "cell_type": "code",
   "execution_count": 3,
   "metadata": {},
   "outputs": [],
   "source": [
    "def load_and_split(path, splitter):\n",
    "    loader = PyPDFLoader(path)\n",
    "    documents = loader.load()\n",
    "    return splitter.split_documents(documents)\n",
    "\n",
    "def generate_description(documents, llm, max_length):\n",
    "    description_step = DescriptionStep(llm=llm, language=\"en\")\n",
    "    text = \"\"\n",
    "    for document in documents:\n",
    "        text += document.page_content\n",
    "        if len(text) > max_length:\n",
    "            break\n",
    "    description = description_step.generate(document=text)\n",
    "\n",
    "    return description\n",
    "\n",
    "def generate_questions(llm, description, documents, output_file, filename, n_chunks):\n",
    "    questions_generatoion_step = GenerateQuestionStep(llm=llm, language=\"en\")\n",
    "    scenario_question_step = ScenarioQuestionStep(llm=llm, language=\"en\")\n",
    "    humanify_question_step = HumanifyQuestionStep(llm=llm, language=\"en\")\n",
    "    question_style_simple_step = QuestionStyleSimpleStep(llm=llm, language=\"en\")\n",
    "    complete_sentence_step = QuestionStyleCompleteSentenseStep(llm=llm, language=\"en\")\n",
    "    multiple_choice_step = MultipleChoiceQuestionStep(llm=llm, language=\"en\")\n",
    "\n",
    "    results = []\n",
    "\n",
    "    random.shuffle(documents)\n",
    "    documents = documents[:min(len(documents), n_chunks)]\n",
    "\n",
    "    for i, chunk in enumerate(documents):\n",
    "        metadata = chunk.metadata\n",
    "        chunk = chunk.page_content\n",
    "        print(f\"Chunk {i+1}/{len(documents)}\")\n",
    "        calls = {}\n",
    "\n",
    "        inputs = {\n",
    "            \"context\": chunk,\n",
    "            \"description\": description,\n",
    "            \"current_document\": metadata[\"source\"]\n",
    "        }\n",
    "\n",
    "        calls[\"input\"] = inputs\n",
    "\n",
    "        response = multicontext_generation_step.generate(**inputs)\n",
    "\n",
    "        if response is None:\n",
    "            print(f\"Could not generate question, skipping\")\n",
    "            continue\n",
    "\n",
    "        calls[questions_generatoion_step.name] = response\n",
    "        print(f\"Base generated question: {calls[questions_generatoion_step.name]['question']}\")\n",
    "\n",
    "        response = multiple_choice_step.generate(**calls[questions_generatoion_step.name])\n",
    "        if response is None:\n",
    "            print(f\"Could not generate multiple choice question, skipping\")\n",
    "        else:\n",
    "            calls[multiple_choice_step.name] = response\n",
    "            print(f\"Multiple choice generated question: {calls[multiple_choice_step.name]['question']}\")\n",
    "            print(f\"\\tA) {calls[multiple_choice_step.name]['answer']}\")\n",
    "            print(f\"\\tB) {calls[multiple_choice_step.name]['wrong_answer_1']}\")\n",
    "            print(f\"\\tC) {calls[multiple_choice_step.name]['wrong_answer_2']}\")\n",
    "            print(f\"\\tD) {calls[multiple_choice_step.name]['wrong_answer_3']}\")\n",
    "\n",
    "        response = scenario_question_step.generate(**calls[questions_generatoion_step.name])\n",
    "        if response is None:\n",
    "            print(f\"Could not generate scenario question, skipping\")\n",
    "        else:\n",
    "            calls[scenario_question_step.name] = response\n",
    "            print(f\"Scenario generated question: {calls[scenario_question_step.name]['question']}\")\n",
    "\n",
    "        response = humanify_question_step.generate(**calls[questions_generatoion_step.name])\n",
    "        if response is None:\n",
    "            print(f\"Could not generate human-like question, skipping\")\n",
    "        else:\n",
    "            calls[humanify_question_step.name] = response\n",
    "            print(f\"Human-like generated question: {calls[humanify_question_step.name]['question']}\")\n",
    "\n",
    "        response = question_style_simple_step.generate(**calls[questions_generatoion_step.name])\n",
    "        if response is None:\n",
    "            print(f\"Could not generate simple question, skipping\")\n",
    "        else:\n",
    "            calls[question_style_simple_step.name] = response\n",
    "            print(f\"Simple generated question: {calls[question_style_simple_step.name]['question']}\")\n",
    "\n",
    "        response = complete_sentence_step.generate(**calls[questions_generatoion_step.name])\n",
    "        if response is None:\n",
    "            print(f\"Could not generate complete sentence question, skipping\")\n",
    "        else:\n",
    "            calls[complete_sentence_step.name] = response\n",
    "            print(f\"Complete sentence generated question: {calls[complete_sentence_step.name]['question']}\")\n",
    "\n",
    "        print()\n",
    "\n",
    "        calls[\"filename\"] = filename\n",
    "\n",
    "        output_file.write(json.dumps(calls) + \"\\n\")\n",
    "\n",
    "        results.append(calls)\n",
    "    \n",
    "    return results"
   ]
  },
  {
   "cell_type": "code",
   "execution_count": 4,
   "metadata": {},
   "outputs": [
    {
     "name": "stdout",
     "output_type": "stream",
     "text": [
      "Discovered 45 PDFs\n"
     ]
    }
   ],
   "source": [
    "base_path = \"../data/moodys_data\"\n",
    "pdfs = [os.path.join(base_path, filename) for filename in os.listdir(base_path) if filename.endswith(\".pdf\")]\n",
    "\n",
    "print(f\"Discovered {len(pdfs)} PDFs\")"
   ]
  },
  {
   "cell_type": "code",
   "execution_count": 5,
   "metadata": {},
   "outputs": [],
   "source": [
    "text_splitter = RecursiveCharacterTextSplitter(\n",
    "    # Set a really small chunk size, just to show.\n",
    "    chunk_size=2048,\n",
    "    chunk_overlap=256,\n",
    "    length_function=len,\n",
    "    is_separator_regex=False,\n",
    ")\n",
    "\n",
    "all_documents = sum([load_and_split(pdf, text_splitter) for pdf in pdfs], [])\n",
    "\n",
    "embeddings = AzureOpenAIEmbeddings(\n",
    "    openai_api_key=AZURE_OPENAI_KEY,\n",
    "    azure_endpoint=AZURE_ENDPOINT,\n",
    "    azure_deployment=\"text-embedding-ada-002\",\n",
    "    openai_api_version=\"2023-08-01-preview\",\n",
    ")\n",
    "\n",
    "llm = AzureChatOpenAI(\n",
    "    openai_api_key=AZURE_OPENAI_KEY,\n",
    "    azure_endpoint=AZURE_ENDPOINT,\n",
    "    openai_api_version=\"2023-08-01-preview\",\n",
    "    deployment_name=AZURE_DEPLOYMENT_NAME,\n",
    "    temperature=0.9,\n",
    ")\n"
   ]
  },
  {
   "cell_type": "code",
   "execution_count": 6,
   "metadata": {},
   "outputs": [],
   "source": [
    "multicontext_generation_step = GenerateMulticontextQuestionStep(\n",
    "    llm=llm,\n",
    "    language=\"en\",\n",
    "    documents=all_documents,\n",
    "    embeddings=embeddings,\n",
    "    n_documents=4,\n",
    "    min_distance=0.85,\n",
    "    max_distance=0.98\n",
    ")"
   ]
  },
  {
   "cell_type": "code",
   "execution_count": null,
   "metadata": {},
   "outputs": [
    {
     "name": "stdout",
     "output_type": "stream",
     "text": [
      "Processing ../data/moodys_data/PBC_1124332.pdf\n",
      "Chunk 1/5\n"
     ]
    }
   ],
   "source": [
    "for pdf in pdfs:\n",
    "    print(f\"Processing {pdf}\")\n",
    "     \n",
    "    documents = load_and_split(pdf, text_splitter)\n",
    "    description = generate_description(documents, llm, max_length=4097)\n",
    "    with open(\"questions.jsonl\", \"a\") as output_file:\n",
    "        results = generate_questions(llm, description, documents, output_file, pdf, n_chunks=5)\n",
    "        print(f\"Generated {len(results)} questions for {pdf}\")"
   ]
  },
  {
   "cell_type": "code",
   "execution_count": null,
   "metadata": {},
   "outputs": [],
   "source": []
  }
 ],
 "metadata": {
  "kernelspec": {
   "display_name": "Python 3 (ipykernel)",
   "language": "python",
   "name": "python3"
  },
  "language_info": {
   "codemirror_mode": {
    "name": "ipython",
    "version": 3
   },
   "file_extension": ".py",
   "mimetype": "text/x-python",
   "name": "python",
   "nbconvert_exporter": "python",
   "pygments_lexer": "ipython3",
   "version": "3.9.18"
  }
 },
 "nbformat": 4,
 "nbformat_minor": 4
}
